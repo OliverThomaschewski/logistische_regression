{
 "cells": [
  {
   "cell_type": "markdown",
   "metadata": {
    "slideshow": {
     "slide_type": "-"
    }
   },
   "source": [
    "# ML-Fundamentals - Logistic Regression and Regularization"
   ]
  },
  {
   "cell_type": "markdown",
   "metadata": {
    "slideshow": {
     "slide_type": "-"
    }
   },
   "source": [
    "## Table of Contents\n",
    "* [Introduction](#Introduction)\n",
    "* [Requirements](#Requirements) \n",
    "  * [Knowledge](#Knowledge) \n",
    "  * [Modules](#Python-Modules)\n",
    "* [Exercises - Multivariate Linear Regression](#Exercises---Multivariate-Linear-Regression)\n",
    "  * [Pen & Paper Exercises](#Pen-&-Paper-Exercises)\n",
    "  * [Data Generation](#Data-Generation)\n",
    "  * [Logistic Function](#Logistic-Function)\n",
    "  * [Cross-Entropy](#Cross-Entropy)\n",
    "  * [Loss Function](#Loss-Function)\n",
    "  * [Cost Function](#Cost-Function)\n",
    "  * [Gradient Descent](#Gradient-Descent)\n",
    "  * [Training and Evaluation](#Training-and-Evaluation)\n",
    "      * [Plot Data and Decision Boundary](#Plot-Data-and-Decision-Boundary)\n",
    "      * [Accuracy](#Accuracy)\n",
    "  * [Regularization](#Regularization)\n",
    "* [Summary and Outlook](#Summary-and-Outlook)\n",
    "* [Literature](#Literature) \n",
    "* [Licenses](#Licenses)"
   ]
  },
  {
   "cell_type": "markdown",
   "metadata": {
    "slideshow": {
     "slide_type": "-"
    }
   },
   "source": [
    "## Introduction\n",
    "\n",
    "In this exercise you will implement the *logistic regression*. Opposed to the *linear regression*, the purpose of this model is not to predict a continuous value (e.g. the temperature tomorrow), but to predict a certain class: For example, whether it will rain tomorrow or not. During this exercise you will:\n",
    "\n",
    "1. Recap (and learn) the fundamentals of logistic regression: Costfunction, Gradient descent for logistic regression \n",
    "1. Implement the logistic function and plot it\n",
    "1. Implement the hypothesis using the logistic function\n",
    "1. Write a function to calculate the cross-entropy cost\n",
    "1. Implement the loss function using the hypothesis and cost\n",
    "1. Implement the gradient descent algorithm to train your model (optimizer) \n",
    "1. Visualize the decision boundary together with the data\n",
    "1. Calculate the accuracy of your model\n",
    "1. Extend your model with regularization\n",
    "1. Calculate the gradient for the loss function with cross-entropy cost (pen&paper)"
   ]
  },
  {
   "cell_type": "markdown",
   "metadata": {
    "slideshow": {
     "slide_type": "-"
    }
   },
   "source": [
    "## Requirements\n",
    "### Knowledge\n",
    "\n",
    "You should have a basic knowledge of:\n",
    "- Logistic regression\n",
    "- Cross-entropy loss\n",
    "- Gradient descent\n",
    "- numpy\n",
    "- matplotlib\n",
    "\n",
    "Suitable sources for acquiring this knowledge are:\n",
    "- [Logistic Regression Notebook](http://christianherta.de/lehre/dataScience/machineLearning/basics/logistic-regression.php) by Christian Herta and corresponding [lecture slides](http://christianherta.de/lehre/dataScience/machineLearning/logisticRegression.pdf) (German)\n",
    "- [Regularization Notebook](http://christianherta.de/lehre/dataScience/machineLearning/basics/regularization.php) by Christian Herta and corresponding [lecture slides](http://christianherta.de/lehre/dataScience/machineLearning/regularization.pdf) (German)\n",
    "- Chapter 5.1 of [Deep Learning](http://www.deeplearningbook.org/contents/ml.html) by Ian Goodfellow \n",
    "- Some parts of chapter 1 and 3 of [Pattern Recognition and Machine Learning](https://www.microsoft.com/en-us/research/people/cmbishop/#!prml-book) by Christopher M. Bishop\n",
    "- [numpy quickstart](https://docs.scipy.org/doc/numpy-1.15.1/user/quickstart.html)\n",
    "- [Matplotlib tutorials](https://matplotlib.org/tutorials/index.html)"
   ]
  },
  {
   "cell_type": "markdown",
   "metadata": {
    "slideshow": {
     "slide_type": "-"
    }
   },
   "source": [
    "### Python Modules\n",
    "\n",
    "By [deep.TEACHING](https://www.deep-teaching.org/) convention, all python modules needed to run the notebook are loaded centrally at the beginning. \n"
   ]
  },
  {
   "cell_type": "code",
   "execution_count": 1,
   "metadata": {
    "slideshow": {
     "slide_type": "-"
    }
   },
   "outputs": [],
   "source": [
    "# External Modules\n",
    "import numpy as np\n",
    "import matplotlib.pyplot as plt\n",
    "\n",
    "%matplotlib inline"
   ]
  },
  {
   "cell_type": "markdown",
   "metadata": {
    "slideshow": {
     "slide_type": "-"
    }
   },
   "source": [
    "## Exercise - Logistic Regression\n",
    "\n"
   ]
  },
  {
   "cell_type": "markdown",
   "metadata": {},
   "source": [
    "### Pen & Paper Exercises\n",
    "\n",
    "#### Task\n",
    "\n",
    "Why is \n",
    "\n",
    "$$\n",
    "\\text{arg}\\max_x f(x) = \\text{arg}\\min_x \\left[ - \\log f(x) \\right] \n",
    "$$"
   ]
  },
  {
   "cell_type": "markdown",
   "metadata": {},
   "source": [
    "### Answer\n",
    "\n",
    "Die logistische Funktion ist wie der Log monoton.\n",
    "Läuft der x Wert in der logistischen Funktion gegen unendlich wird dieser maximal ( also 1), der gleiche Wert in den negativen Log eingesetzt lässt den Wert der Funktion kleiner werden.\n",
    "\n",
    "Konkreter:\n",
    "\n",
    "Je höher die Wahrscheinlichkeit für Klasse 1 eingeschätzt wird, desto mehr bewegt sich der x Wert Richtung unendlich. \n",
    "\n",
    "Da die cost funktion für die Klasse 1 --> -log(h(x)) werden die kosten mit höheren Werten geringer."
   ]
  },
  {
   "cell_type": "markdown",
   "metadata": {},
   "source": [
    "#### Logistic model\n",
    "\n",
    "In logistic regression, the prediction of a learned model $h_\\Theta(\\vec x)$\n",
    "can be interpreted as the prediction that $\\vec x$ belongs to the positive class $1$:\n",
    "\n",
    "$$p(y=1\\mid \\vec x; \\Theta) = h_\\Theta(\\vec x)$$\n",
    "\n",
    "#### Task\n",
    "What is the probability of the negative class $p(y=0\\mid \\vec x; \\Theta)$ prediction (expressed with $h_\\Theta(\\vec x)$)?"
   ]
  },
  {
   "cell_type": "markdown",
   "metadata": {},
   "source": [
    "### Answer\n",
    "1 -  $h_\\Theta(\\vec x)$)"
   ]
  },
  {
   "cell_type": "markdown",
   "metadata": {},
   "source": [
    "#### Loss\n",
    "\n",
    "\n",
    "The loss of an example $(\\vec x^{(i)}, y^{(i)})$ with target value $y^{(i)}=1$ is\n",
    "$$loss_{(\\vec x^{(i)}, 1)} (\\Theta) = - \\log p(y=1\\mid \\vec x; \\Theta)$$\n",
    "\n",
    "The loss of an example $(\\vec x^{(i)}, y^{(i)})$ with target value $y^{(i)}=0$ is\n",
    "$$loss_{(\\vec x^{(i)}, 0)} (\\Theta) = - \\log p(y=0\\mid \\vec x; \\Theta)$$\n",
    "\n",
    "So, $p(y=k\\mid \\vec x; \\Theta)$ is maximized for the target class $k$ \"by searching\n",
    "in the $\\Theta$-space\".  \n",
    "\n",
    "$p(y=k\\mid \\vec x; \\Theta)$ is called *likelihood* of $\\Theta$ (of one example $(\\vec x, y)$)\n",
    "if it is considered as a function of $\\Theta$. \n",
    "Note that the likelihood is a function of $\\Theta$.\n",
    "\n",
    "$\\mathcal L^{(i)}(\\Theta) = \\log p(y^{(i)}\\mid \\vec x^{(i)}; \\Theta)$ is the log-likelihood\n",
    "of $\\Theta$ for an example $i$.\n",
    "\n",
    "Why is $p(y=k\\mid \\vec x; \\Theta)$ not a probability with respect to $\\Theta$.\n",
    "Which property of a probability does not hold?"
   ]
  },
  {
   "cell_type": "markdown",
   "metadata": {},
   "source": [
    "### Answer\n",
    "\n",
    "Die Fläche unter einer wahrscheinlichkeitskurve ergibt in Summe immer 1. Die Fläche einer Likelihoodkurve kann auch Werte über 1 annehmen"
   ]
  },
  {
   "cell_type": "markdown",
   "metadata": {},
   "source": [
    "#### i.i.d. and log-likelihood for all data\n",
    "\n",
    "Note that the training data in logistic regression should be \n",
    "**i.i.d.** (independent and identically distributed):\n",
    "\n",
    "An simple example of an i.i.d. data set is the toin coss of a (marked) coin.\n",
    "Assume that the probability of head (class $y=1$) is $0.4$, i.e. $p(y=1)=0.4$.     \n",
    "The probability of getting two heads in two throws is $0.4 \\cdot 0.4$:\n",
    "- Each throw has the same distribution (here: $p(y=1)=0.4$. Each throw of the same coin is **identically distributed**\n",
    "- The throws are **independent**. If we get a head on the first throw the probability of\n",
    "getting a head on the second throw does not change.\n",
    "\n",
    "So, the probability factorizes: $p(y^{(1)}=1, y^{(2)}=1)=p(y^{(1)}=1)p(y^{(2)}=1)$\n",
    "\n",
    "For our classification problem:\n",
    "\n",
    "$p(\\mathcal D_y \\mid \\mathcal D_x; \\Theta) = \\prod_i p(y=y^{(i)}\\mid \\vec x^{(i)}; \\Theta)$ \n",
    "\n",
    "with \n",
    "- $\\mathcal D_x= \\{x^{(1)}, x^{(2)}, \\dots , x^{(m)}\\}$\n",
    "- $\\mathcal D_y= \\{y^{(1)}, y^{(2)}, \\dots , y^{(m)}\\}$\n",
    "- $\\mathcal D$ is the combination of $\\mathcal D_x$ with $\\mathcal D_y$:\n",
    "$\\mathcal D= \\{ (\\vec x^{(1)},y^{(1)}), (\\vec x^{(2)},y^{(2)}), \\dots , (\\vec x^{(m)},y^{(m)})\\}$. \n",
    "\n",
    "#### Task \n",
    "For the whole data set the log-likelihood $\\mathcal L_\\mathcal D(\\Theta)$ of a parameter set $\\Theta$ is \n",
    "$\\log p(\\mathcal D_y \\mid \\mathcal D_x; \\Theta)$).     \n",
    "Note: The (log-)likelihood $\\mathcal L_\\mathcal D(\\Theta)$ is a function of the parameters $\\Theta$.\n",
    "Never say the (log-)likelihood of the data.\n",
    "\n",
    "1. What is $\\mathcal L_\\mathcal D(\\Theta) = \\log p(\\mathcal D_y \\mid \\mathcal D_x; \\Theta)$ expressed by the $p(y^{(i)}\\mid \\vec x^{(i)}; \\Theta)$?\n",
    "\n",
    "2. What is the relation of the log-likelihood $\\mathcal L^{(i)}(\\Theta)$ (for the individual examples $(\\vec x^{(i)}, y^{(i)})$) \n",
    "to the log-likelihood $\\mathcal L_\\mathcal D(\\Theta)$ for the whole data set.\n",
    "\n",
    "  In logistic regression the cost function is the negative log-likelihood divided by the number of data examples $m$:\n",
    "\n",
    " $$J (\\Theta) = - \\frac{\\mathcal L_\\mathcal D(\\Theta)}{m}$$\n",
    "\n",
    "The average log-likelihood per data point.\n",
    "\n",
    "3. What is the relation of the (log-)likelihood with the cost function for logistic-regression? \n",
    "4. Derive the cost function of logistic-regression by using your result of 2."
   ]
  },
  {
   "cell_type": "markdown",
   "metadata": {},
   "source": [
    "$$\n",
    "h_\\Theta(\\vec x^{(i)}) = p(1\\mid \\vec x^{(i)}; \\Theta)\n",
    "$$\n",
    "\n",
    "$$\n",
    "1 - h_\\Theta(\\vec x^{(i)}) = p(0\\mid \\vec x^{(i)}; \\Theta)\n",
    "$$\n"
   ]
  },
  {
   "cell_type": "markdown",
   "metadata": {},
   "source": [
    "### Answers\n",
    "\n",
    "1. L<sub>D </sub>= y<sup>(i)</sup> * log $\\sigma$($\\theta$ x<sup>(i)</sup>) + ( 1 - y<sup>(i)</sup>) log(1 - $\\sigma$($\\theta$ x<sup>(i)</sup>))\n",
    "\n",
    "2. Bei Log Likelihood werden die Werte aus 1. aufaddiert\n",
    "\n",
    "3. Die Kostenfunktion ist die negative LL geteilt durch die Anzahl der Datenpunkte\n"
   ]
  },
  {
   "cell_type": "markdown",
   "metadata": {
    "slideshow": {
     "slide_type": "-"
    }
   },
   "source": [
    "#### Derivative of the logistic function\n",
    "\n",
    "The sigmoid activation function is defined as $\\sigma (z) = \\frac{1}{1+\\exp(-z)}$ \n",
    "\n",
    "**Task:**\n",
    "\n",
    "Show that:\n",
    "$$\n",
    "\\frac{d \\sigma(z)}{d z} = \\sigma(z)(1-\\sigma(z))\n",
    "$$"
   ]
  },
  {
   "cell_type": "markdown",
   "metadata": {},
   "source": [
    "### Answer\n",
    "\n",
    "![Alt text](../../../../../../../../C:/Users/othom/Desktop/Studium/WS2223/Wissensrepr%C3%A4sentation/beleg/Derivate%20.jpg)"
   ]
  },
  {
   "cell_type": "markdown",
   "metadata": {},
   "source": [
    "#### Task:\n",
    "\n",
    "Now show that:\n",
    "$$\n",
    "\\frac{\\partial \\sigma(z)}{\\partial \\theta_j} = \\sigma(z)(1-\\sigma(z)) \\cdot x_j\n",
    "$$\n",
    "\n",
    "\n",
    "with \n",
    "- $z=\\vec x'^T \\vec \\theta$\n",
    "\n",
    "and\n",
    "- $\\vec \\theta = (\\theta_0, \\theta_1, \\dots, \\theta_n)^T $\n",
    "- $\\vec x' = (x_0, x_1, \\dots, x_n)^T $\n",
    "\n",
    "\n",
    "Hint: Use the *chain rule of calculus*."
   ]
  },
  {
   "cell_type": "markdown",
   "metadata": {},
   "source": [
    "### Answer\n",
    "![Alt text](../../../../../../../../C:/Users/othom/Desktop/Studium/WS2223/Wissensrepr%C3%A4sentation/beleg/dertheta.jpg)"
   ]
  },
  {
   "cell_type": "markdown",
   "metadata": {
    "slideshow": {
     "slide_type": "-"
    }
   },
   "source": [
    "**Task:**\n",
    "\n",
    "Show from\n",
    "$$\n",
    "    \\frac{\\partial}{\\partial \\theta_j}  J(\\theta)  =  \n",
    "    \\frac{\\partial}{\\partial \\theta_j}  \\left( - \\frac{1}{m}  \\sum_{i=1}^{m} \n",
    "    \\left[  y^{(i)} \\log h_\\theta({\\vec x}^{(i)})+\n",
    "      (1 - y^{(i)}) \\log \\left( 1- h_\\theta({\\vec x}^{(i)})\\right) \\right] \\right)\n",
    "$$  \n",
    "that\n",
    "$$\n",
    "\\frac{\\partial}{\\partial \\theta_j}  J(\\theta)  =   \\frac{1}{m}\n",
    "     \\sum_{i=1}^{m} \\left( h_\\theta({\\vec x}^{(i)})- y^{(i)}\\right) x_j^{(i)}\n",
    "$$\n",
    "\n",
    "with the hypothesis $h_\\theta(\\vec x^{(i)}) = \\sigma(\\vec x'^T \\vec \\theta)$\n",
    "So, with our classification cost function (from the max-likelihood principle) the \n",
    "partial derivatives (components the gradient) has a simple form.\n",
    "\n",
    "**Hint:**\n",
    "\n",
    "1. Make use of your knowledge, that:\n",
    "\n",
    "$$\n",
    "\\frac{\\partial h_\\theta(\\vec x^{(i)})}{\\partial \\theta_j} = h_\\theta(\\vec x^{(i)})(1-h_\\theta(\\vec x^{(i)})) \\cdot x_j\n",
    "$$\n",
    "2. and note that the chain rule for the derivative of the log is:\n",
    "\n",
    "$$\n",
    "\\frac{\\partial \\log(f(a))}{\\partial a} = \\frac{\\partial \\log(f(a))}{\\partial f} \\frac{\\partial f(a)}{\\partial a} =\n",
    "\\frac{1}{f(a)} \\frac{\\partial f(a)}{\\partial a}\n",
    "$$"
   ]
  },
  {
   "cell_type": "markdown",
   "metadata": {},
   "source": [
    "### Answer\n",
    "![Alt text](../../../../../../../../C:/Users/othom/Desktop/Studium/WS2223/Wissensrepr%C3%A4sentation/beleg/dercost.jpg)"
   ]
  },
  {
   "cell_type": "markdown",
   "metadata": {},
   "source": [
    "## Programming Exercises\n",
    "\n",
    "For convenience and visualization, we will only use two features in this notebook, so we are still able to plot them together with the target class. But your implementation should also be capable of handling more (except the plots). "
   ]
  },
  {
   "cell_type": "markdown",
   "metadata": {},
   "source": [
    "### Data Generation\n",
    "\n",
    "First we will create some artificial data. For each class, we will generate the features with bivariate (2D) normal distribution;"
   ]
  },
  {
   "cell_type": "code",
   "execution_count": 2,
   "metadata": {
    "scrolled": true
   },
   "outputs": [],
   "source": [
    "np.random.seed(42)\n",
    "# class 0:\n",
    "# covariance matrix and mean\n",
    "cov0 = np.array([[5,-4],[-4,4]])\n",
    "mean0 = np.array([2.,3])\n",
    "# number of data points\n",
    "m0 = 1000\n",
    "\n",
    "# class 1\n",
    "# covariance matrix\n",
    "cov1 = np.array([[5,-3],[-3,3]])\n",
    "mean1 = np.array([1.,1])\n",
    "# number of data points\n",
    "m1 = 1000\n",
    "\n",
    "# generate m gaussian distributed data points with\n",
    "# mean and cov.\n",
    "r0 = np.random.multivariate_normal(mean0, cov0, m0)\n",
    "r1 = np.random.multivariate_normal(mean1, cov1, m1)"
   ]
  },
  {
   "cell_type": "code",
   "execution_count": 3,
   "metadata": {
    "scrolled": true
   },
   "outputs": [
    {
     "data": {
      "image/png": "[encoded data removed]",
      "text/plain": [
       "<Figure size 432x288 with 1 Axes>"
      ]
     },
     "metadata": {
      "needs_background": "light"
     },
     "output_type": "display_data"
    },
    {
     "name": "stdout",
     "output_type": "stream",
     "text": [
      "(1000, 2)\n"
     ]
    }
   ],
   "source": [
    "plt.scatter(r0[...,0], r0[...,1], c='b', marker='*', label=\"class 0\")\n",
    "plt.scatter(r1[...,0], r1[...,1], c='r', marker='.', label=\"class 1\")\n",
    "plt.xlabel(\"x0\")\n",
    "plt.ylabel(\"x1\")\n",
    "plt.legend()\n",
    "plt.show()\n",
    "print(r0.shape)\n",
    "\n",
    "X = np.concatenate((r0,r1))\n",
    "y = np.ones(len(r0)+len(r1))\n",
    "y[:len(r0),] = 0\n"
   ]
  },
  {
   "cell_type": "markdown",
   "metadata": {},
   "source": [
    "### Logistic Function\n",
    "\n",
    "For the logistic regression, we want the output of the hypothesis to be in the interval $]0, 1[$. This is done using the *logistic function* $\\sigma(.)$. The logistic function is also called *sigmoid function* in machine learning:\n",
    "\n",
    "**Task:**\n",
    "\n",
    "Implement the _logistic function_ and plot it in the interval of $[-10,10]$."
   ]
  },
  {
   "cell_type": "code",
   "execution_count": 4,
   "metadata": {},
   "outputs": [
    {
     "data": {
      "text/plain": [
       "Text(0.5, 1.0, 'Logistische Regression')"
      ]
     },
     "execution_count": 4,
     "metadata": {},
     "output_type": "execute_result"
    },
    {
     "data": {
      "image/png": "[encoded data removed]",
      "text/plain": [
       "<Figure size 432x288 with 1 Axes>"
      ]
     },
     "metadata": {
      "needs_background": "light"
     },
     "output_type": "display_data"
    }
   ],
   "source": [
    "def logistic_function(x):\n",
    "    \"\"\" Applies the logistic function to x, element-wise. \"\"\"\n",
    "    \n",
    "### Insert code to plot the logistic function below\n",
    "    \n",
    "    return 1/(1+np.exp(-x))\n",
    "\n",
    "u = np.arange(-10, 11,1)\n",
    "f = logistic_function(u)\n",
    "plt.plot(u, f)\n",
    "plt.title(\"Logistische Regression\")\n"
   ]
  },
  {
   "cell_type": "markdown",
   "metadata": {},
   "source": [
    "### Logistic Hypothesis\n",
    "\n",
    "The hypothesis in logistic regression is defined by:\n",
    "\n",
    "$$\n",
    "h_\\Theta(\\vec x) = \\sigma(\\vec x'^T \\cdot \\vec \\theta)\n",
    "$$\n",
    "\n",
    "with:\n",
    "\n",
    "$$\n",
    "\\vec x^T = \\begin{pmatrix} \n",
    "x_1 & x_2 & \\ldots & x_n \\\\\n",
    "\\end{pmatrix}\n",
    "\\text{   and   }\n",
    "\\vec x'^T = \\begin{pmatrix} \n",
    "x_0=1 & x_1 & x_2 & \\ldots & x_n \\\\\n",
    "\\end{pmatrix}\n",
    "$$\n",
    "\n",
    "or for the whole data set $X$ and $X'$\n",
    "\n",
    "$$\n",
    "X = \\begin{pmatrix} \n",
    "x_1^{(1)} & \\ldots & x_n^{(1)} \\\\\n",
    "x_1^{(2)} & \\ldots & x_n^{(2)} \\\\\n",
    "\\vdots &\\vdots &\\vdots \\\\\n",
    "x_1^{(m)} & \\ldots & x_n^{(m)} \\\\\n",
    "\\end{pmatrix}\n",
    "\\text{   and   }\n",
    "X' = \\begin{pmatrix} \n",
    "1 & x_1^{(1)} & \\ldots & x_n^{(1)} \\\\\n",
    "1 & x_1^{(2)} & \\ldots & x_n^{(2)} \\\\\n",
    "\\vdots &\\vdots &\\vdots &\\vdots \\\\\n",
    "1 & x_1^{(m)} & \\ldots & x_n^{(m)} \\\\\n",
    "\\end{pmatrix}\n",
    "$$\n",
    "\n",
    "\n",
    " - $n$ is the number of features\n",
    " - $m$ is the number of training data (examples)\n",
    " \n",
    " \n",
    "**Task:**\n",
    "\n",
    "Implement the logistic hypothesis using your implementation of the logistic function. `logistic_hypothesis` should return a function which accepts the training data $X$. Example usage:\n",
    "\n",
    "`>> theta = np.array([1.1, 2.0, -.9])`\n",
    "\n",
    "`>> h = logistic_hypothesis(theta) `\n",
    "\n",
    "`>> print(h(X))`\n",
    "\n",
    "**Note:** The training data was sampled with random noise, so the actual values of your h(X) may differ.\n",
    "\n",
    "`array([0.03587382, 0.0299963 , 0.97389774, ...,`\n",
    "\n",
    "**Hint:**\n",
    "\n",
    "You may of course also implement a helper function for transforming $X$ into $X'$ and use it inside the `lamda` function of `logistic_hypothesis`."
   ]
  },
  {
   "cell_type": "code",
   "execution_count": 5,
   "metadata": {},
   "outputs": [
    {
     "data": {
      "text/plain": [
       "array([[ 1.        ,  0.84970492,  3.88917208],\n",
       "       [ 1.        ,  1.2719596 ,  5.03380735],\n",
       "       [ 1.        ,  2.40661558,  2.42719079],\n",
       "       ...,\n",
       "       [ 1.        ,  5.49869296, -2.21036759],\n",
       "       [ 1.        ,  5.33968517, -2.48923925],\n",
       "       [ 1.        , -2.37490022,  3.83938598]])"
      ]
     },
     "execution_count": 5,
     "metadata": {},
     "output_type": "execute_result"
    }
   ],
   "source": [
    "## X to X'\n",
    "ones = np.ones((len(X), 1), dtype=float)\n",
    "X = np.hstack((ones, X))\n",
    "\n",
    "X"
   ]
  },
  {
   "cell_type": "code",
   "execution_count": 6,
   "metadata": {},
   "outputs": [
    {
     "name": "stdout",
     "output_type": "stream",
     "text": [
      "(2000,)\n"
     ]
    }
   ],
   "source": [
    "def logistic_hypothesis(theta):\n",
    "    ''' Combines given list argument in a logistic equation and returns it as a function\n",
    "    \n",
    "    Args:\n",
    "        thetas: list of coefficients\n",
    "        \n",
    "    Returns:\n",
    "        lambda that models a logistc function based on thetas and x\n",
    "    '''\n",
    "    \n",
    "    return lambda x: logistic_function(x.dot(theta))\n",
    "    \n",
    "\n",
    "    \n",
    "#Uncomment to test your implementation\n",
    "theta = np.array([1.,2.,3.])\n",
    "h = logistic_hypothesis(theta)\n",
    "res = h(X)\n",
    "\n",
    "print(res.shape)\n"
   ]
  },
  {
   "cell_type": "markdown",
   "metadata": {},
   "source": [
    "### Cross-entropy loss\n",
    "\n",
    "The cross-entropy loss for a data point $({\\vec x}^{(i)}, y^{(i)})$ is defined by:\n",
    "\n",
    "\\begin{equation}\n",
    "    \\text{loss}_{({\\vec x}^{(i)}, y^{(i)})}(\\vec \\theta) = -y^{(i)} \\cdot log(h_{\\Theta} ({\\vec x}^{(i)})) - (1-y^{(i)}) \\cdot log(1-h_\\Theta({\\vec x}^{(i)}))\n",
    "\\end{equation}\n",
    "\n",
    "\n",
    "with \n",
    "- the target class $y^{(i)} \\in \\{ 0, 1\\}$ of the $i$-th data point \n",
    "- the parameters $\\Theta$ packed in the vector $\\vec \\theta$.\n",
    "- $h_{\\Theta}({\\vec x}^{(i)})$ the predition for the feature vector of the $i$-th data point $\\vec x^{(i)}$ with the parameters $\\Theta$ (resp. $\\vec \\theta$)\n",
    "\n",
    "\n",
    "**Task:**\n",
    "\n",
    "Implement the cross-entropy loss. <!--This is the sum of the losses of all data $(X, \\vec y)$.-->\n",
    "\n",
    "Your python function should return a function, which accepts the vector $\\vec \\theta$.\n",
    "This reflects the fact that $\\text{loss}(\\vec \\theta)$ is a function of the parameter (vector).\n",
    "\n",
    "The returned function should return the cost for each feature vector $\\vec x^{(i)}$ and target $y^{(i)}$. The length of the returned array of costs therefore has to be the same length as $m$ (number of data examples).    \n",
    "Example usage:\n",
    "\n",
    "`>> J = cross_entropy_loss(logistic_hypothesis, X, y)`\n",
    "\n",
    "`>> print(J(theta))`\n",
    "\n",
    "**Note:** The training data was sampled with random noise, so the actual values of your h(X) may differ.\n",
    "\n",
    "\n",
    "`array([ 7.3,  9.5, ....`"
   ]
  },
  {
   "cell_type": "code",
   "execution_count": 7,
   "metadata": {},
   "outputs": [
    {
     "name": "stdout",
     "output_type": "stream",
     "text": [
      "[1.43669267e+01 1.86453412e+01 1.30948056e+01 ... 4.66058484e-03\n",
      " 1.47130836e-02 4.22817921e-04]\n"
     ]
    }
   ],
   "source": [
    "def cross_entropy_costs(h, X, y):\n",
    "    ''' Implements cross-entropy as a function costs(theta) on given traning data \n",
    "    \n",
    "    Args:\n",
    "        h: the hypothesis as function\n",
    "        x: features as 2D array with shape (m_examples, n_features)  \n",
    "        y: ground truth labels for given features with shape (m_examples)\n",
    "        \n",
    "    Returns:\n",
    "        lambda costs(theta) that models the cross-entropy for each x^i\n",
    "    '''\n",
    "   \n",
    "\n",
    "    return lambda theta: -y * np.log(h(theta)(X))-(1-y)*np.log(1-h(theta)(X))\n",
    "\n",
    "\n",
    "    \n",
    "### Uncomment to test your implementation\n",
    "theta = np.array([1.,2.,3.])\n",
    "costs = cross_entropy_costs(logistic_hypothesis, X, y)\n",
    "print(costs(theta))\n"
   ]
  },
  {
   "cell_type": "markdown",
   "metadata": {},
   "source": [
    "### Loss Function\n",
    "\n",
    "\\begin{equation}\n",
    "    J_{\\mathcal D}(\\vec \\theta)=\\frac{1}{m}\\sum_{i=1}^{m}\\left(\\text{loss}_{({\\vec x}^{(i)}, y^{(i)})}(\\Theta)\\right)\n",
    "\\end{equation}\n",
    "\n",
    "- with the training data $\\mathcal D = \\{ (\\vec x^{(1)}, y^{(1)}), \\dots,  (\\vec x^{(m)}, y^{(m)}) \\}$ \n",
    "\n",
    "**Task:**\n",
    "\n",
    "Now implement the loss function $J$, which calculates the mean costs for the whole training data $X$. Your python function should return a function, which accepts the vector $\\vec \\theta$.\n",
    "\n",
    "**Note:** You can ignore the parameter `lambda_reg` for now, it is a hyperparameter for regularization. In a later exercise, you may revisit your implementation and implement regularization if you wish."
   ]
  },
  {
   "cell_type": "code",
   "execution_count": 8,
   "metadata": {},
   "outputs": [
    {
     "name": "stdout",
     "output_type": "stream",
     "text": [
      "7.137546808740987\n"
     ]
    }
   ],
   "source": [
    "\n",
    "def mean_cross_entropy_costs(X, y, hypothesis, cost_func, lambda_reg=0.1):\n",
    "    ''' Implements mean cross-entropy as a function J(theta) on given traning data \n",
    "    \n",
    "    Args:\n",
    "        X: features as 2D array with shape (m_examples, n_features)  \n",
    "        y: ground truth labels for given features with shape (m_examples)\n",
    "        hypothesis: the hypothesis as function\n",
    "        cost_func: cost function\n",
    "        \n",
    "    Returns:\n",
    "        lambda J(theta) that models the mean cross-entropy\n",
    "    '''\n",
    "\n",
    "    return lambda theta: (1./float(len(X)))*( np.sum(cost_func(logistic_hypothesis,X,y)(theta)))\n",
    "    \n",
    "    \n",
    "### Uncomment to test your implementation\n",
    "theta = np.array([1.,2.,3.])\n",
    "J = mean_cross_entropy_costs(X,y, logistic_hypothesis, cross_entropy_costs, 0.1)\n",
    "print(J(theta))"
   ]
  },
  {
   "cell_type": "markdown",
   "metadata": {
    "slideshow": {
     "slide_type": "slide"
    }
   },
   "source": [
    "###  Gradient Descent\n",
    "\n",
    "A short recap, the gradient descent algorithm is a first-order iterative optimization for finding a minimum of a function. From the current position in a (cost) function, the algorithm steps proportional to the negative of the gradient and repeats this until it reaches a local or global minimum and determines.\n",
    "Stepping proportional means that it does not go entirely in the direction of the negative gradient, but scaled by a fixed value $\\alpha$ also called the learning rate. Implementing the following formalized update rule is the core of the optimization process:\n",
    "\n",
    "\\begin{equation}\n",
    "    \\vec \\theta_{new} \\leftarrow \\vec \\theta_{{old}} - \\alpha  \\vec \\nabla_\\Theta J(\\vec \\theta_{old})\n",
    "\\end{equation}\n",
    "\n",
    "**Task:**\n",
    "\n",
    "Implement the function to update all $\\theta$ values (in a vectorized way).\n",
    "\n",
    "**Note:** You can ignore the parameter `lambda_reg` for now, it is a hyperparameter for regularization. In a later exercise, you may revisit your implementation and implement regularization."
   ]
  },
  {
   "cell_type": "code",
   "execution_count": 9,
   "metadata": {},
   "outputs": [
    {
     "name": "stdout",
     "output_type": "stream",
     "text": [
      "[0.95279771 1.90387092 2.84361887]\n"
     ]
    }
   ],
   "source": [
    "def compute_new_theta(X, y, theta, learning_rate, hypothesis, lambda_reg=0.1):\n",
    "    ''' Updates learnable parameters theta \n",
    "    \n",
    "    The update is done by calculating the partial derivities of \n",
    "    the cost function including the linear hypothesis. The \n",
    "    gradients scaled by a scalar are subtracted from the given \n",
    "    theta values.\n",
    "    \n",
    "    Args:\n",
    "        X: 2D numpy array of x values\n",
    "        y: array of y values corresponding to x\n",
    "        theta: current theta values\n",
    "        learning_rate: value to scale the negative gradient  \n",
    "        hypothesis: the hypothesis as function\n",
    "        \n",
    "        \n",
    "    Returns:\n",
    "        theta: Updated theta_0\n",
    "    '''\n",
    "    \n",
    "    m = len(X)\n",
    "    dt = 1./float(m) * (hypothesis(theta)(X)-y).dot(X)\n",
    "\n",
    "    return theta - learning_rate*(dt+ (lambda_reg/m)*theta)\n",
    "    raise NotImplementedError(\"You should implement this\")\n",
    "\n",
    "### Uncomment to test your implementation\n",
    "theta = np.array([1.,2.,3.])\n",
    "theta = compute_new_theta(X, y, theta, .1, logistic_hypothesis, .1)\n",
    "print(theta)"
   ]
  },
  {
   "cell_type": "markdown",
   "metadata": {
    "slideshow": {
     "slide_type": "-"
    }
   },
   "source": [
    "Using the `compute_new_theta` method, you can now implement the gradient descent algorithm. Iterate over the update rule to find the values for $\\theta$ that minimize our cost function $J_D(\\theta)$. This process is often called training of a machine learning model. \n",
    "\n",
    "**Task:**\n",
    "- Implement the function for the gradient descent.\n",
    "- Create a history of all theta and cost values and return them."
   ]
  },
  {
   "cell_type": "code",
   "execution_count": 10,
   "metadata": {},
   "outputs": [],
   "source": [
    "def gradient_descent(X, y, theta, learning_rate, num_iters, lambda_reg=0.1):\n",
    "    ''' Minimize theta values of a logistic model based on cross-entropy cost function\n",
    "    \n",
    "    Args:\n",
    "        X: 2D numpy array of x values\n",
    "        y: array of y values corresponding to x\n",
    "        theta: current theta values\n",
    "        learning_rate: value to scale the negative gradient  \n",
    "        num_iters: number of iterations updating thetas\n",
    "        lambda_reg: regularization strength\n",
    "        cost_function: python function for computing the cost\n",
    "        \n",
    "    Returns:\n",
    "        history_cost: cost after each iteration\n",
    "        history_theta: Updated theta values after each iteration\n",
    "    '''\n",
    "    # Initialize histories\n",
    "    cost_hist = np.zeros(num_iters+1)\n",
    "    theta_hist = np.zeros((num_iters+1, len(theta)))\n",
    "\n",
    "    # Get loss function based on given data\n",
    "\n",
    "    cost = mean_cross_entropy_costs(X,y, logistic_hypothesis, cross_entropy_costs, lambda_reg)\n",
    "\n",
    "    theta_hist[0] = theta\n",
    "    cost_hist[0] = cost(theta)\n",
    "    \n",
    "\n",
    "    for i in range(num_iters):\n",
    "        theta = compute_new_theta(X,y,theta_hist[i], learning_rate, logistic_hypothesis)\n",
    "        theta_hist[i+1] = theta\n",
    "        cost_hist[i+1] = cost(theta)\n",
    "        \n",
    "\n",
    "    return cost_hist, theta_hist\n",
    "\n",
    "\n",
    "    \n"
   ]
  },
  {
   "cell_type": "markdown",
   "metadata": {},
   "source": [
    "### Training and Evaluation\n",
    "\n",
    "**Task:**\n",
    "\n",
    "Choose an appropriate learning rate, number of iterations and initial theta values and start the training"
   ]
  },
  {
   "cell_type": "code",
   "execution_count": 11,
   "metadata": {},
   "outputs": [],
   "source": [
    "# TODO: Assign sensible values\n",
    "alpha = 0.01\n",
    "theta = np.array([1., 1., 1.])\n",
    "num_iters = 5000\n",
    "history_cost, history_theta = gradient_descent(X, y, theta, alpha, num_iters)\n",
    "\n",
    "\n"
   ]
  },
  {
   "cell_type": "markdown",
   "metadata": {},
   "source": [
    "Now that the training has finished we can visualize our results.\n",
    "\n",
    "**Task:**\n",
    "\n",
    "Plot the costs over the iterations. Your plot should look similar to this one:\n",
    "\n",
    "<img src=\"https://gitlab.com/deep.TEACHING/educational-materials/raw/dev/media/klaus/exercise-multivariate-linear-regression-costs.png\" width=\"512\" alt=\"internet connection needed\">"
   ]
  },
  {
   "cell_type": "code",
   "execution_count": 12,
   "metadata": {
    "slideshow": {
     "slide_type": "-"
    }
   },
   "outputs": [],
   "source": [
    "def plot_progress(costs):\n",
    "    \"\"\" Plots the costs over the iterations\n",
    "    \n",
    "    Args:\n",
    "        costs: history of costs\n",
    "    \"\"\"\n",
    "    x = np.arange(len(costs))\n",
    "    plt.ylabel(\"Costs\")\n",
    "    plt.xlabel(\"Iterations\")\n",
    "    plt.plot(x, costs)"
   ]
  },
  {
   "cell_type": "code",
   "execution_count": 13,
   "metadata": {},
   "outputs": [
    {
     "name": "stdout",
     "output_type": "stream",
     "text": [
      "costs before the training:\t  3.07807885940606\n",
      "costs after the training:\t  0.27802480707995003\n"
     ]
    },
    {
     "data": {
      "image/png": "[encoded data removed]",
      "text/plain": [
       "<Figure size 432x288 with 1 Axes>"
      ]
     },
     "metadata": {
      "needs_background": "light"
     },
     "output_type": "display_data"
    }
   ],
   "source": [
    "plot_progress(history_cost)\n",
    "print(\"costs before the training:\\t \", history_cost[0])\n",
    "\n",
    "print(\"costs after the training:\\t \", history_cost[-1])"
   ]
  },
  {
   "cell_type": "markdown",
   "metadata": {},
   "source": [
    "#### Plot Data and Decision Boundary \n",
    "\n",
    "**Task:**\n",
    "\n",
    "Now plot the decision boundary (a straight line in this case) together with the data.         "
   ]
  },
  {
   "cell_type": "code",
   "execution_count": 14,
   "metadata": {
    "slideshow": {
     "slide_type": "-"
    }
   },
   "outputs": [
    {
     "data": {
      "text/plain": [
       "array([ 3.60789335, -0.90454526, -1.19930072])"
      ]
     },
     "execution_count": 14,
     "metadata": {},
     "output_type": "execute_result"
    }
   ],
   "source": [
    "# Insert your code to plot below\n",
    "history_theta[-1]"
   ]
  },
  {
   "cell_type": "code",
   "execution_count": 15,
   "metadata": {
    "slideshow": {
     "slide_type": "slide"
    }
   },
   "outputs": [
    {
     "data": {
      "text/plain": [
       "<matplotlib.legend.Legend at 0x19a4e273fd0>"
      ]
     },
     "execution_count": 15,
     "metadata": {},
     "output_type": "execute_result"
    },
    {
     "data": {
      "image/png": "[encoded data removed]",
      "text/plain": [
       "<Figure size 432x288 with 1 Axes>"
      ]
     },
     "metadata": {
      "needs_background": "light"
     },
     "output_type": "display_data"
    }
   ],
   "source": [
    "final_theta = history_theta[-1]\n",
    "\n",
    "plt.scatter(r0[...,0], r0[...,1], c='b', marker='*', label=\"class 0\")\n",
    "plt.scatter(r1[...,0], r1[...,1], c='r', marker='.', label=\"class 1\")\n",
    "plt.xlabel(\"x0\")\n",
    "plt.ylabel(\"x1\")\n",
    "\n",
    "x = np.array([-6, 10])\n",
    "f = lambda x_1: (final_theta[0]+ final_theta[1]*x_1) / theta[2]\n",
    "Y = f(x)\n",
    "\n",
    "\n",
    "plt.plot(x, Y, label=\"Boundary\")\n",
    "plt.legend()"
   ]
  },
  {
   "cell_type": "markdown",
   "metadata": {},
   "source": [
    "#### Accuracy\n",
    "\n",
    "The logistic hypothesis outputs a value in the interval $]0,1[$. We want to map this value to one specific class i.e. $0$ or $1$, so we apply a threshold known as the decision boundary: If the predicted value is < 0.5, the class is 0, otherwise it is 1.\n",
    "\n",
    "**Task:**\n",
    "\n",
    "1. Calculate the accuracy of your final classifier. The accuracy is the proportion of the correctly classified data.\n",
    "2. Why will the accuracy never reach 100% using this model and this data set?"
   ]
  },
  {
   "cell_type": "code",
   "execution_count": 16,
   "metadata": {
    "slideshow": {
     "slide_type": "-"
    }
   },
   "outputs": [
    {
     "name": "stdout",
     "output_type": "stream",
     "text": [
      "Korrekt hervorgesagte Klassen: 1818\n",
      "Accuracy: 90.9%\n"
     ]
    }
   ],
   "source": [
    "correct = 0\n",
    "\n",
    "H = logistic_hypothesis(final_theta)\n",
    "res = H(X)\n",
    "\n",
    "for i in range(len(res)):\n",
    "    if res[i] >= 0.5:\n",
    "        predict = 1\n",
    "    else:\n",
    "        predict = 0\n",
    "\n",
    "    if predict == y[i]:\n",
    "        correct+=1\n",
    "\n",
    "print(f\"Korrekt hervorgesagte Klassen: {correct}\")\n",
    "print(f\"Accuracy: {(correct/len(y))*100}%\")\n",
    "    "
   ]
  },
  {
   "cell_type": "markdown",
   "metadata": {},
   "source": [
    "### Answer\n",
    "\n",
    "Logistische Regression versucht eine Gerade durch die Daten zu ziehen welche die Klassen unterteilt. Da sich die Punktwolken der Daten teilweise überschneiden, können sie mit einer Linie nicht 100% geteilt werden."
   ]
  },
  {
   "cell_type": "markdown",
   "metadata": {},
   "source": [
    "### Regularization\n",
    "\n",
    "**Task:**\n",
    "    \n",
    "Extend your implementation with a regularization term $\\lambda$ by adding it as argument to the functions `mean_cross_entropy_costs`, `compute_new_theta` and `gradient_descent`.\n"
   ]
  },
  {
   "cell_type": "markdown",
   "metadata": {
    "slideshow": {
     "slide_type": "-"
    }
   },
   "source": [
    "## Summary and Outlook\n",
    "\n",
    "During this exercise you learned about logistic regression and used it to perform binary classification on multidimensional data. You should be able to answer the following questions:\n",
    "* How can you interpret the output of the logistic function?\n",
    "* For which type of problem do you use linear regression and for which type of problem do you use logistic regression?"
   ]
  },
  {
   "cell_type": "markdown",
   "metadata": {
    "slideshow": {
     "slide_type": "-"
    }
   },
   "source": [
    "## Licenses\n",
    "\n",
    "### Notebook License (CC-BY-SA 4.0)\n",
    "\n",
    "*The following license applies to the complete notebook, including code cells. It does however not apply to any referenced external media (e.g., images).*\n",
    "\n",
    "Exercise: Logistic Regression and Regularization <br/>\n",
    "by Christian Herta, Klaus Strohmenger <br/>\n",
    "is licensed under a [Creative Commons Attribution-ShareAlike 4.0 International License](http://creativecommons.org/licenses/by-sa/4.0/).<br/>\n",
    "Based on a work at https://gitlab.com/deep.TEACHING.\n",
    "\n",
    "\n",
    "### Code License (MIT)\n",
    "\n",
    "*The following license only applies to code cells of the notebook.*\n",
    "\n",
    "Copyright 2018 Christian Herta, Klaus Strohmenger\n",
    "\n",
    "Permission is hereby granted, free of charge, to any person obtaining a copy of this software and associated documentation files (the \"Software\"), to deal in the Software without restriction, including without limitation the rights to use, copy, modify, merge, publish, distribute, sublicense, and/or sell copies of the Software, and to permit persons to whom the Software is furnished to do so, subject to the following conditions:\n",
    "\n",
    "The above copyright notice and this permission notice shall be included in all copies or substantial portions of the Software.\n",
    "\n",
    "THE SOFTWARE IS PROVIDED \"AS IS\", WITHOUT WARRANTY OF ANY KIND, EXPRESS OR IMPLIED, INCLUDING BUT NOT LIMITED TO THE WARRANTIES OF MERCHANTABILITY, FITNESS FOR A PARTICULAR PURPOSE AND NONINFRINGEMENT. IN NO EVENT SHALL THE AUTHORS OR COPYRIGHT HOLDERS BE LIABLE FOR ANY CLAIM, DAMAGES OR OTHER LIABILITY, WHETHER IN AN ACTION OF CONTRACT, TORT OR OTHERWISE, ARISING FROM, OUT OF OR IN CONNECTION WITH THE SOFTWARE OR THE USE OR OTHER DEALINGS IN THE SOFTWARE."
   ]
  },
  {
   "cell_type": "code",
   "execution_count": null,
   "metadata": {},
   "outputs": [],
   "source": []
  },
  {
   "cell_type": "code",
   "execution_count": null,
   "metadata": {},
   "outputs": [],
   "source": []
  },
  {
   "cell_type": "code",
   "execution_count": null,
   "metadata": {},
   "outputs": [],
   "source": []
  }
 ],
 "metadata": {
  "celltoolbar": "Slideshow",
  "kernelspec": {
   "display_name": "Python 3.10.4 64-bit",
   "language": "python",
   "name": "python3"
  },
  "language_info": {
   "codemirror_mode": {
    "name": "ipython",
    "version": 3
   },
   "file_extension": ".py",
   "mimetype": "text/x-python",
   "name": "python",
   "nbconvert_exporter": "python",
   "pygments_lexer": "ipython3",
   "version": "3.10.4 (tags/v3.10.4:9d38120, Mar 23 2022, 23:13:41) [MSC v.1929 64 bit (AMD64)]"
  },
  "vscode": {
   "interpreter": {
    "hash": "75993ab2b49036cadd476b97bc353bfc628d81ff23efd854332b94743c4a2258"
   }
  }
 },
 "nbformat": 4,
 "nbformat_minor": 2
}
